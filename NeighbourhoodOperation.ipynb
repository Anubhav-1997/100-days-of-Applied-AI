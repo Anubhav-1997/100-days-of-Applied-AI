{
  "nbformat": 4,
  "nbformat_minor": 0,
  "metadata": {
    "language_info": {
      "codemirror_mode": {
        "name": "ipython",
        "version": 3
      },
      "file_extension": ".py",
      "mimetype": "text/x-python",
      "name": "python",
      "nbconvert_exporter": "python",
      "pygments_lexer": "ipython3",
      "version": "3.9.1-final"
    },
    "orig_nbformat": 2,
    "kernelspec": {
      "name": "python3",
      "display_name": "Python 3.9.1 64-bit",
      "metadata": {
        "interpreter": {
          "hash": "ee5cc6fef2d70a7e71ee3826687cbd150f18158e0b1eef11d4f4f92bb920e304"
        }
      }
    },
    "colab": {
      "name": "NeighbourhoodOperation.ipynb",
      "provenance": [],
      "include_colab_link": true
    }
  },
  "cells": [
    {
      "cell_type": "markdown",
      "metadata": {
        "id": "view-in-github",
        "colab_type": "text"
      },
      "source": [
        "<a href=\"https://colab.research.google.com/github/LifeofAGeek/100-days-of-Applied-AI/blob/master/NeighbourhoodOperation.ipynb\" target=\"_parent\"><img src=\"https://colab.research.google.com/assets/colab-badge.svg\" alt=\"Open In Colab\"/></a>"
      ]
    },
    {
      "cell_type": "markdown",
      "metadata": {
        "id": "gR1kIlPjwnwR"
      },
      "source": [
        "# Assignment 4.2 (Neighbourhood Operations)\n",
        "\n",
        "1. Averaging\n",
        "2. Max and\n",
        "3. Min operation\n",
        "\n",
        "Note: here take grid size from the user."
      ]
    },
    {
      "cell_type": "code",
      "metadata": {
        "id": "85ETJ4cWwnwZ"
      },
      "source": [
        "import math\n",
        "from random import *\n",
        "import numpy as np"
      ],
      "execution_count": null,
      "outputs": []
    },
    {
      "cell_type": "code",
      "metadata": {
        "id": "foaGgJtYwnwa"
      },
      "source": [
        "def generateRandomImage(height, width):\n",
        "    '''\n",
        "        Description: Utility function to generate random matrix with grayscale values\n",
        "    '''\n",
        "    image = np.zeros([height, width], dtype=int) \n",
        "    for row in range(height):\n",
        "        for col in range(width):\n",
        "            image[row][col] = randint(0, 255)\n",
        "    return image\n"
      ],
      "execution_count": null,
      "outputs": []
    },
    {
      "cell_type": "code",
      "metadata": {
        "id": "9tqhyp9uwnwb",
        "outputId": "39f6e1b6-3f80-42cc-81e8-ce1a42541cb0"
      },
      "source": [
        "height = int(input(\"Image Height = \"))\n",
        "width = int(input(\"Image Width = \"))\n",
        "image = generateRandomImage(height, width)\n",
        "print('Original Image: \\n{}'.format(image))"
      ],
      "execution_count": null,
      "outputs": [
        {
          "output_type": "stream",
          "text": [
            "Original Image: \n",
            "[[173 193 218 210]\n",
            " [167 122 194 255]\n",
            " [141  68 245 187]\n",
            " [157   8  14 226]]\n"
          ],
          "name": "stdout"
        }
      ]
    },
    {
      "cell_type": "code",
      "metadata": {
        "id": "gadowfgownwc"
      },
      "source": [
        "def generate_padded_matrix(matrix, gridSize):\n",
        "    '''\n",
        "        Description: Utility function to generate matrix with zero border padding\n",
        "        Input: \n",
        "            paddedMatrix: an image pixel intensity matrix \n",
        "            gridSize: size of the grid\n",
        "        Output: padded intensity matrix\n",
        "    '''\n",
        "    k = gridSize//2\n",
        "    rows = len(matrix) + 2*k\n",
        "    cols = len(matrix[0]) + 2*k\n",
        "    paddedMatrix = np.zeros([rows, cols], dtype=int)\n",
        "    \n",
        "    for i in range(len(matrix)):\n",
        "        for j in range(len(matrix[0])):\n",
        "            paddedMatrix[i+k][j+k] = matrix[i][j]\n",
        "    return paddedMatrix  "
      ],
      "execution_count": null,
      "outputs": []
    },
    {
      "cell_type": "markdown",
      "metadata": {
        "id": "UVgjTJ16wnwc"
      },
      "source": [
        "### Grid Size Input and Padding"
      ]
    },
    {
      "cell_type": "code",
      "metadata": {
        "id": "Cebzp1FVwnwc"
      },
      "source": [
        "gridSize = int(input(\"Grid Size = \"))\n",
        "paddedMatrix = generate_padded_matrix(image, gridSize)"
      ],
      "execution_count": null,
      "outputs": []
    },
    {
      "cell_type": "markdown",
      "metadata": {
        "id": "zPITKsl3wnwd"
      },
      "source": [
        "### Neighbourhood Operation: Averaging"
      ]
    },
    {
      "cell_type": "code",
      "metadata": {
        "id": "o0jPUHe9wnwd"
      },
      "source": [
        "def cellAverage(paddedMatrix: np.array, row: int, col: int, gridSize: int):\n",
        "    '''\n",
        "        Description: Utility function to calculate average intensity of a single pixel\n",
        "        Input: \n",
        "            paddedMatrix: an image pixel intensity matrix with zero padded border values\n",
        "            row: cell row index\n",
        "            col: cell column index\n",
        "            gridSize: size of the grid\n",
        "        Output: average intensity value of cell\n",
        "    '''\n",
        "    average = 0\n",
        "    totalCellsInGrid = gridSize ** 2\n",
        "    k = gridSize//2\n",
        "    for i in range(row-k, row+k+1):\n",
        "        for j in range(col-k, col+k+1):\n",
        "            average = average + paddedMatrix[i][j]/totalCellsInGrid\n",
        "    return math.floor(average)"
      ],
      "execution_count": null,
      "outputs": []
    },
    {
      "cell_type": "code",
      "metadata": {
        "id": "cwx8P16Vwnwd"
      },
      "source": [
        "def averaging(paddedMatrix, gridSize, height, width):\n",
        "    '''\n",
        "        Description: Function to perform Averaging Spatial Operation on an image\n",
        "        Input: \n",
        "            paddedMatrix: an image pixel intensity matrix with zero padded border values\n",
        "            i: cell row index\n",
        "            j: cell column index\n",
        "            gridSize: size of the grid\n",
        "        Output: average intensity values\n",
        "    '''\n",
        "    print(\"Original Image with zero-padding: \\n{}\\n\".format(paddedMatrix))\n",
        "    result = np.zeros([len(paddedMatrix), len(paddedMatrix[0])], dtype=int)\n",
        "\n",
        "    k = gridSize//2\n",
        "    for i in range(height):\n",
        "        for j in range(width):\n",
        "            result[i+k][j+k] = cellAverage(paddedMatrix, i+k, j+k, gridSize)\n",
        "    print(\"Image after Averaging: \\n{}\".format(result))\n",
        "    return result  \n",
        "            "
      ],
      "execution_count": null,
      "outputs": []
    },
    {
      "cell_type": "code",
      "metadata": {
        "id": "2lHAyNn2wnwe",
        "outputId": "b76c7fcd-b73b-4cd4-d777-10a9529332a8"
      },
      "source": [
        "averageImage = averaging(paddedMatrix, gridSize, height, width)"
      ],
      "execution_count": null,
      "outputs": [
        {
          "output_type": "stream",
          "text": [
            "Original Image with zero-padding: \n",
            "[[  0   0   0   0   0   0]\n",
            " [  0 173 193 218 210   0]\n",
            " [  0 167 122 194 255   0]\n",
            " [  0 141  68 245 187   0]\n",
            " [  0 157   8  14 226   0]\n",
            " [  0   0   0   0   0   0]]\n",
            "\n",
            "Image after Averaging: \n",
            "[[  0   0   0   0   0   0]\n",
            " [  0  72 118 132  97   0]\n",
            " [  0  96 169 188 145   0]\n",
            " [  0  73 124 146 124   0]\n",
            " [  0  41  70  83  74   0]\n",
            " [  0   0   0   0   0   0]]\n"
          ],
          "name": "stdout"
        }
      ]
    },
    {
      "cell_type": "markdown",
      "metadata": {
        "id": "8oVa0nSxwnwe"
      },
      "source": [
        "### Neighbourhood Operation: Min Grid"
      ]
    },
    {
      "cell_type": "code",
      "metadata": {
        "id": "e77mVz6awnwe"
      },
      "source": [
        "def minCell(paddedMatrix: np.array, row: int, col: int, gridSize: int):\n",
        "    '''\n",
        "        Description: Utility function to calculate minimum intensity of a single pixel\n",
        "        Input: \n",
        "            paddedMatrix: an image pixel intensity matrix with zero padded border values\n",
        "            row: cell row index\n",
        "            col: cell column index\n",
        "            gridSize: size of the grid\n",
        "        Output: minimum intensity value of cell\n",
        "    '''\n",
        "    minVal = -1\n",
        "    totalCellsInGrid = gridSize*gridSize\n",
        "    k = gridSize//2\n",
        "    for i in range(row-k, row+k+1):\n",
        "        for j in range(col-k, col+k+1):\n",
        "            if minVal == -1:\n",
        "                minVal = paddedMatrix[i][j]\n",
        "            else:\n",
        "                minVal = min(minVal, paddedMatrix[i][j])\n",
        "    return minVal"
      ],
      "execution_count": null,
      "outputs": []
    },
    {
      "cell_type": "code",
      "metadata": {
        "id": "-yGskgmawnwe"
      },
      "source": [
        "def minGrid(paddedMatrix, gridSize, height, width):\n",
        "    '''\n",
        "        Description: Function to perform Minimum Spatial Operation on an image\n",
        "        Input: \n",
        "            paddedMatrix: an image pixel intensity matrix with zero padded border values\n",
        "            i: cell row index\n",
        "            j: cell column index\n",
        "            gridSize: size of the grid\n",
        "        Output: minimum intensity values\n",
        "    '''\n",
        "\n",
        "    print(\"Original Image with zero-padding: \\n{}\\n\".format(paddedMatrix))\n",
        "    result = np.zeros([len(paddedMatrix), len(paddedMatrix[0])], dtype=int)\n",
        "\n",
        "    k = gridSize//2\n",
        "    for i in range(height):\n",
        "        for j in range(width):\n",
        "            result[i+k][j+k] = minCell(paddedMatrix, i+k, j+k, gridSize)\n",
        "    print(\"Image after Min Grid Operation: \\n{}\".format(result))\n",
        "    return result  \n",
        "            "
      ],
      "execution_count": null,
      "outputs": []
    },
    {
      "cell_type": "code",
      "metadata": {
        "id": "XdNj_6M3wnwf",
        "outputId": "75c6ce21-237b-4cfe-ecca-0720bd38fde3"
      },
      "source": [
        "minImageGrid = minGrid(paddedMatrix, gridSize, height, width)"
      ],
      "execution_count": null,
      "outputs": [
        {
          "output_type": "stream",
          "text": [
            "Original Image with zero-padding: \n",
            "[[  0   0   0   0   0   0]\n",
            " [  0 173 193 218 210   0]\n",
            " [  0 167 122 194 255   0]\n",
            " [  0 141  68 245 187   0]\n",
            " [  0 157   8  14 226   0]\n",
            " [  0   0   0   0   0   0]]\n",
            "\n",
            "Image after Min Grid Operation: \n",
            "[[ 0  0  0  0  0  0]\n",
            " [ 0  0  0  0  0  0]\n",
            " [ 0  0 68 68  0  0]\n",
            " [ 0  0  8  8  0  0]\n",
            " [ 0  0  0  0  0  0]\n",
            " [ 0  0  0  0  0  0]]\n"
          ],
          "name": "stdout"
        }
      ]
    },
    {
      "cell_type": "markdown",
      "metadata": {
        "id": "733PZdEwwnwf"
      },
      "source": [
        "### Neighbourhood Operation: Max Grid"
      ]
    },
    {
      "cell_type": "code",
      "metadata": {
        "id": "3CvbKijlwnwf"
      },
      "source": [
        "def maxCell(paddedMatrix, row, col, gridSize):\n",
        "    '''\n",
        "        Description: Utility function to calculate maximum intensity of a single pixel\n",
        "        Input: \n",
        "            paddedMatrix: an image pixel intensity matrix with zero padded border values\n",
        "            row: cell row index\n",
        "            col: cell column index\n",
        "            gridSize: size of the grid\n",
        "        Output: maximum intensity value of cell\n",
        "    '''\n",
        "    maxVal = -1\n",
        "    totalCellsInGrid = gridSize ** 2\n",
        "    k = gridSize//2\n",
        "    for i in range(row-k, row+k+1):\n",
        "        for j in range(col-k, col+k+1):\n",
        "            if maxVal == -1:\n",
        "                maxVal = paddedMatrix[i][j]\n",
        "            elif paddedMatrix[i][j] > maxVal:\n",
        "                maxVal = paddedMatrix[i][j]\n",
        "    return maxVal"
      ],
      "execution_count": null,
      "outputs": []
    },
    {
      "cell_type": "code",
      "metadata": {
        "id": "u4OPlY9Rwnwg"
      },
      "source": [
        "def maximum(paddedMatrix, gridSize, height, width):\n",
        "    '''\n",
        "        Description: Function to perform Maximum Spatial Operation on an image\n",
        "        Input: \n",
        "            paddedMatrix: an image pixel intensity matrix with zero padded border values\n",
        "            i: cell row index\n",
        "            j: cell column index\n",
        "            gridSize: size of the grid\n",
        "        Output: maximum intensity values\n",
        "    '''\n",
        "    print(\"Original Image with zero-padding: \\n{}\\n\".format(paddedMatrix))\n",
        "    result = np.zeros([len(paddedMatrix), len(paddedMatrix[0])], dtype=int)\n",
        "    k = gridSize//2\n",
        "\n",
        "    for i in range(height):\n",
        "        for j in range(width):\n",
        "            result[i+k][j+k] = maxCell(paddedMatrix, i+k, j+k, gridSize)\n",
        "    print(\"Image after Maximum Neighborhood Operation: \\n{}\".format(result))\n",
        "    return result  \n",
        "            "
      ],
      "execution_count": null,
      "outputs": []
    },
    {
      "cell_type": "code",
      "metadata": {
        "id": "yn3dTzJ0wnwg",
        "outputId": "8b1bc8b9-37a8-4bf1-bee0-7732ee522673"
      },
      "source": [
        "maxImage = maximum(paddedMatrix, gridSize, height, width)"
      ],
      "execution_count": null,
      "outputs": [
        {
          "output_type": "stream",
          "text": [
            "Original Image with zero-padding: \n",
            "[[  0   0   0   0   0   0]\n",
            " [  0 173 193 218 210   0]\n",
            " [  0 167 122 194 255   0]\n",
            " [  0 141  68 245 187   0]\n",
            " [  0 157   8  14 226   0]\n",
            " [  0   0   0   0   0   0]]\n",
            "\n",
            "Image after Maximum Neighborhood Operation: \n",
            "[[  0   0   0   0   0   0]\n",
            " [  0 193 218 255 255   0]\n",
            " [  0 193 245 255 255   0]\n",
            " [  0 167 245 255 255   0]\n",
            " [  0 157 245 245 245   0]\n",
            " [  0   0   0   0   0   0]]\n"
          ],
          "name": "stdout"
        }
      ]
    },
    {
      "cell_type": "code",
      "metadata": {
        "id": "mudfkooLwnwh"
      },
      "source": [
        ""
      ],
      "execution_count": null,
      "outputs": []
    }
  ]
}