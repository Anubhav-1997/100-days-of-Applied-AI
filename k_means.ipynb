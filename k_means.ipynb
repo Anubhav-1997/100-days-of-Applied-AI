{
  "nbformat": 4,
  "nbformat_minor": 0,
  "metadata": {
    "colab": {
      "name": "k-means.ipynb",
      "provenance": [],
      "authorship_tag": "ABX9TyNOMSJPqe95mlP+iL35rla+",
      "include_colab_link": true
    },
    "kernelspec": {
      "name": "python3",
      "display_name": "Python 3"
    }
  },
  "cells": [
    {
      "cell_type": "markdown",
      "metadata": {
        "id": "view-in-github",
        "colab_type": "text"
      },
      "source": [
        "<a href=\"https://colab.research.google.com/github/LifeofAGeek/100-days-of-Applied-AI/blob/master/k_means.ipynb\" target=\"_parent\"><img src=\"https://colab.research.google.com/assets/colab-badge.svg\" alt=\"Open In Colab\"/></a>"
      ]
    },
    {
      "cell_type": "code",
      "metadata": {
        "id": "V3nsiRXRanYo",
        "outputId": "d2a51803-2391-46b8-e440-c141233437fc",
        "colab": {
          "base_uri": "https://localhost:8080/",
          "height": 90
        }
      },
      "source": [
        "import random\n",
        "import math\n",
        "\n",
        "#Euclidian Distance between two d-dimensional points\n",
        "def eucldist(p0,p1):\n",
        "    dist = 0.0\n",
        "    for i in range(0,len(p0)):\n",
        "        dist += (p0[i] - p1[i])**2\n",
        "    return math.sqrt(dist)\n",
        "\n",
        "\n",
        "    \n",
        "#K-Means Algorithm\n",
        "def kmeans(k,datapoints):\n",
        "\n",
        "    # d - Dimensionality of Datapoints\n",
        "    d = len(datapoints[0]) \n",
        "    \n",
        "    #Limit our iterations\n",
        "    Max_Iterations = 1000\n",
        "    i = 0\n",
        "    \n",
        "    cluster = [0] * len(datapoints)\n",
        "    prev_cluster = [-1] * len(datapoints)\n",
        "    \n",
        "    #Randomly Choose Centers for the Clusters\n",
        "    cluster_centers = []\n",
        "    for i in range(0,k):\n",
        "        cluster_centers += [random.choice(datapoints)]\n",
        "        \n",
        "        \n",
        "        #Sometimes The Random points are chosen poorly and so there ends up being empty clusters\n",
        "        #In this particular implementation we want to force K exact clusters.\n",
        "        #To take this feature off, simply take away \"force_recalculation\" from the while conditional.\n",
        "        force_recalculation = False\n",
        "    \n",
        "    while (cluster != prev_cluster) or (i > Max_Iterations) or (force_recalculation) :\n",
        "        \n",
        "        prev_cluster = list(cluster)\n",
        "        force_recalculation = False\n",
        "        i += 1\n",
        "    \n",
        "        #Update Point's Cluster Alligiance\n",
        "        for p in range(0,len(datapoints)):\n",
        "            min_dist = float(\"inf\")\n",
        "            \n",
        "            #Check min_distance against all centers\n",
        "            for c in range(0,len(cluster_centers)):\n",
        "                \n",
        "                dist = eucldist(datapoints[p],cluster_centers[c])\n",
        "                \n",
        "                if (dist < min_dist):\n",
        "                    min_dist = dist  \n",
        "                    cluster[p] = c   # Reassign Point to new Cluster\n",
        "        \n",
        "        \n",
        "        #Update Cluster's Position\n",
        "        for k in range(0,len(cluster_centers)):\n",
        "            new_center = [0] * d\n",
        "            members = 0\n",
        "            for p in range(0,len(datapoints)):\n",
        "                if (cluster[p] == k): #If this point belongs to the cluster\n",
        "                    for j in range(0,d):\n",
        "                        new_center[j] += datapoints[p][j]\n",
        "                    members += 1\n",
        "            \n",
        "            for j in range(0,d):\n",
        "                if members != 0:\n",
        "                    new_center[j] = new_center[j] / float(members) \n",
        "                \n",
        "                #This means that our initial random assignment was poorly chosen\n",
        "                #Change it to a new datapoint to actually force k clusters\n",
        "                else: \n",
        "                    new_center = random.choice(datapoints)\n",
        "                    force_recalculation = True\n",
        "                    print(\"Forced Recalculation...\")\n",
        "                    \n",
        "            \n",
        "            cluster_centers[k] = new_center\n",
        "    \n",
        "        \n",
        "    print(\"======== Results ========\")\n",
        "    print(\"Clusters\", cluster_centers)\n",
        "    print(\"Total Iterations\",i)\n",
        "    print(\"Assignments\", cluster)\n",
        "    \n",
        "\n",
        "\n",
        "if __name__ == \"__main__\":\n",
        "    #2D - Datapoints List of n d-dimensional vectors. (For this example I already set up 2D Tuples)\n",
        "    datapoints = [(3,2),(2,2),(1,2),(0,1),(1,0),(1,1),(5,6),(7,7),(9,10),(11,13),(12,12),(12,13),(13,13)]\n",
        "\n",
        "    k = 2 # K - Number of Clusters\n",
        "      \n",
        "    kmeans(k,datapoints)"
      ],
      "execution_count": 16,
      "outputs": [
        {
          "output_type": "stream",
          "text": [
            "======== Results ========\n",
            "Clusters [[10.666666666666666, 11.333333333333334], [1.8571428571428572, 2.0]]\n",
            "Total Iterations 5\n",
            "Assignments [1, 1, 1, 1, 1, 1, 1, 0, 0, 0, 0, 0, 0]\n"
          ],
          "name": "stdout"
        }
      ]
    },
    {
      "cell_type": "code",
      "metadata": {
        "id": "3t3kctAlczom"
      },
      "source": [
        ""
      ],
      "execution_count": 13,
      "outputs": []
    }
  ]
}