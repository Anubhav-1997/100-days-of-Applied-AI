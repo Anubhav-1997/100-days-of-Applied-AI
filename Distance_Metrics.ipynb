{
  "nbformat": 4,
  "nbformat_minor": 0,
  "metadata": {
    "kernelspec": {
      "display_name": "Python 3",
      "language": "python",
      "name": "python3"
    },
    "language_info": {
      "codemirror_mode": {
        "name": "ipython",
        "version": 3
      },
      "file_extension": ".py",
      "mimetype": "text/x-python",
      "name": "python",
      "nbconvert_exporter": "python",
      "pygments_lexer": "ipython3",
      "version": "3.8.3"
    },
    "colab": {
      "name": "Distance_Metrics.ipynb",
      "provenance": [],
      "include_colab_link": true
    }
  },
  "cells": [
    {
      "cell_type": "markdown",
      "metadata": {
        "id": "view-in-github",
        "colab_type": "text"
      },
      "source": [
        "<a href=\"https://colab.research.google.com/github/LifeofAGeek/100-days-of-Applied-AI/blob/master/Distance_Metrics.ipynb\" target=\"_parent\"><img src=\"https://colab.research.google.com/assets/colab-badge.svg\" alt=\"Open In Colab\"/></a>"
      ]
    },
    {
      "cell_type": "markdown",
      "metadata": {
        "id": "r4wJdz4WQ3vs"
      },
      "source": [
        "1. **Euclidean distance**\n",
        "2. **City block distance**\n",
        "3. **Chessboard distance**\n",
        "\n",
        "- Submitted by - Anubhav Sethi"
      ]
    },
    {
      "cell_type": "code",
      "metadata": {
        "id": "eKWx9UbjQ0yO"
      },
      "source": [
        "\"\"\"\n",
        "Input : points in tuples -> distance functions\n",
        "Output : Return distance \n",
        "\"\"\"\n",
        "import numpy as np\n",
        "#eclidian distance\n",
        "def euclidian_distance(point1,point2):\n",
        "    d1=(point1[0]-point2[0])\n",
        "    d2=(point1[1]-point2[1])\n",
        "    distance=np.sqrt(d1**2+d2**2) \n",
        "    \n",
        "    return distance;\n",
        "#city_block\n",
        "def city_block(point1,point2):\n",
        "    d1=abs(point1[0]-point2[0])\n",
        "    d2=abs(point1[1]-point2[1])\n",
        "    distance=d1+d2\n",
        "    \n",
        "    return distance;\n",
        "#chessboard\n",
        "def chess_board(point1,point2):\n",
        "    d1=abs(point1[0]-point2[0])\n",
        "    d2=abs(point1[1]-point2[1])\n",
        "    distance=np.maximum(d1,d2)\n",
        "    \n",
        "    return distance"
      ],
      "execution_count": 1,
      "outputs": []
    },
    {
      "cell_type": "code",
      "metadata": {
        "id": "Aqz2cZLkPlob"
      },
      "source": [
        "point1=(23,77)\n",
        "point2=(12,89)"
      ],
      "execution_count": 4,
      "outputs": []
    },
    {
      "cell_type": "code",
      "metadata": {
        "colab": {
          "base_uri": "https://localhost:8080/"
        },
        "id": "JJ5SO2RUPlod",
        "outputId": "42508e2e-f7f9-4489-cee2-a20551698b6d"
      },
      "source": [
        "euclidian_distance(point1,point2)"
      ],
      "execution_count": 5,
      "outputs": [
        {
          "output_type": "execute_result",
          "data": {
            "text/plain": [
              "16.278820596099706"
            ]
          },
          "metadata": {
            "tags": []
          },
          "execution_count": 5
        }
      ]
    },
    {
      "cell_type": "code",
      "metadata": {
        "colab": {
          "base_uri": "https://localhost:8080/"
        },
        "id": "Zr_yl4KCPlod",
        "outputId": "b02545c7-c294-46b1-f073-503cf92a5f77"
      },
      "source": [
        "city_block(point1,point2)"
      ],
      "execution_count": 6,
      "outputs": [
        {
          "output_type": "execute_result",
          "data": {
            "text/plain": [
              "23"
            ]
          },
          "metadata": {
            "tags": []
          },
          "execution_count": 6
        }
      ]
    },
    {
      "cell_type": "code",
      "metadata": {
        "colab": {
          "base_uri": "https://localhost:8080/"
        },
        "id": "VlxcxIssPlod",
        "outputId": "0f8d63c4-ef14-4c86-b6da-e69a57e68f77"
      },
      "source": [
        "chess_board(point1,point2)"
      ],
      "execution_count": 7,
      "outputs": [
        {
          "output_type": "execute_result",
          "data": {
            "text/plain": [
              "12"
            ]
          },
          "metadata": {
            "tags": []
          },
          "execution_count": 7
        }
      ]
    }
  ]
}